{
 "cells": [
  {
   "cell_type": "code",
   "execution_count": 2,
   "metadata": {},
   "outputs": [],
   "source": [
    "import numpy as np\n",
    "import healpy as hp\n",
    "import astropy.units as u\n",
    "import matplotlib.pyplot as plt\n",
    "import importlib\n",
    "from scipy.spatial.transform import Rotation as rot\n",
    "from emission_data_processing import loadPlanckData\n",
    "import superpixel_rotations as sr\n",
    "import h5py"
   ]
  },
  {
   "cell_type": "markdown",
   "metadata": {},
   "source": [
    "### Generating shifted plank emission maps"
   ]
  },
  {
   "cell_type": "code",
   "execution_count": 2,
   "metadata": {},
   "outputs": [
    {
     "name": "stdout",
     "output_type": "stream",
     "text": [
      "Reading map data...\n",
      "Subtracting CMB from Planck w approp. conversions from Kcmb to MJySr-1...\n",
      "Converting from Kcmb to MJySr-1...\n"
     ]
    }
   ],
   "source": [
    "# Get plank data\n",
    "plank_data = loadPlanckData()\n",
    "np.shape(plank_data)\n",
    "plank_index = ['217GHz', '353GHz', '545GHz', '857GHz', '2998GHz']\n",
    "# 5 rows correspond to 5 frequencies at 217, 353, 545, 857GHz from the Planck satellite and the 2998GHz IRAS/DIRBE map, after subtracting the contribution\n",
    "# of the CMB.\n"
   ]
  },
  {
   "cell_type": "code",
   "execution_count": 3,
   "metadata": {},
   "outputs": [],
   "source": [
    "# Set nsides\n",
    "# Note integer ratio of nsides determines number of maps generated (ratio^2)\n",
    "lower_nside = 128\n",
    "higher_nside = 512"
   ]
  },
  {
   "cell_type": "code",
   "execution_count": null,
   "metadata": {},
   "outputs": [],
   "source": [
    "# Create all plank rotations\n",
    "for i in range(5):\n",
    "    sr.shift_maps(plank_data[i],lower_nside,higher_nside,plank = plank_index[i])"
   ]
  },
  {
   "cell_type": "markdown",
   "metadata": {},
   "source": [
    "### Generating shifted reddening maps"
   ]
  },
  {
   "cell_type": "markdown",
   "metadata": {},
   "source": []
  },
  {
   "cell_type": "code",
   "execution_count": null,
   "metadata": {},
   "outputs": [],
   "source": []
  }
 ],
 "metadata": {
  "kernelspec": {
   "display_name": "Python 3",
   "language": "python",
   "name": "python3"
  },
  "language_info": {
   "codemirror_mode": {
    "name": "ipython",
    "version": 3
   },
   "file_extension": ".py",
   "mimetype": "text/x-python",
   "name": "python",
   "nbconvert_exporter": "python",
   "pygments_lexer": "ipython3",
   "version": "3.10.2"
  }
 },
 "nbformat": 4,
 "nbformat_minor": 2
}
