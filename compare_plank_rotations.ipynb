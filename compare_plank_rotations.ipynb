{
 "cells": [
  {
   "cell_type": "code",
   "execution_count": 1,
   "metadata": {},
   "outputs": [],
   "source": [
    "import numpy as np\n",
    "import healpy as hp\n",
    "import astropy.units as u\n",
    "import matplotlib.pyplot as plt\n",
    "import dropbox\n",
    "from emission_data_processing import loadPlanckData\n",
    "import importlib\n",
    "import comparison_functions as cf\n",
    "\n"
   ]
  },
  {
   "cell_type": "code",
   "execution_count": 3,
   "metadata": {},
   "outputs": [
    {
     "name": "stdout",
     "output_type": "stream",
     "text": [
      "Reading map data...\n",
      "Subtracting CMB from Planck w approp. conversions from Kcmb to MJySr-1...\n",
      "Converting from Kcmb to MJySr-1...\n"
     ]
    },
    {
     "data": {
      "text/plain": [
       "(5, 12582912)"
      ]
     },
     "execution_count": 3,
     "metadata": {},
     "output_type": "execute_result"
    }
   ],
   "source": [
    "# Get plank data, file should be run in dustfizz3d directory\n",
    "plank = loadPlanckData()\n",
    "np.shape(plank)"
   ]
  },
  {
   "cell_type": "code",
   "execution_count": null,
   "metadata": {},
   "outputs": [],
   "source": [
    "# To output all the data all at once\n",
    "for i in range(5):\n",
    "    index,ringed,residual_alms,residual_pixels = cf.compare_rotator_methods(i,plank,[10,10])\n",
    "    # Get the residuals and ratios\n",
    "    cf.plot_residuals_ratios(index,ringed,residual_alms,residual_pixels)\n",
    "    # Get the histograms\n",
    "    cf.ratio_histograms(index,ringed,residual_alms,residual_pixels)"
   ]
  },
  {
   "cell_type": "code",
   "execution_count": null,
   "metadata": {},
   "outputs": [],
   "source": [
    "index, ringed0, residual_alms0,residual_pixel0 = cf.compare_rotator_methods(0,plank,[10,10])"
   ]
  },
  {
   "cell_type": "code",
   "execution_count": null,
   "metadata": {},
   "outputs": [],
   "source": [
    "cf.plot_residuals_ratios(index, ringed0, residual_alms0,residual_pixel0)"
   ]
  },
  {
   "cell_type": "code",
   "execution_count": null,
   "metadata": {},
   "outputs": [],
   "source": [
    "index1, ringed1, residual_alms1,residual_pixel1 = cf.compare_rotator_methods(1,plank,[10,10])"
   ]
  },
  {
   "cell_type": "code",
   "execution_count": null,
   "metadata": {},
   "outputs": [],
   "source": [
    "cf.plot_residuals_ratios(index1, ringed1, residual_alms1,residual_pixel1)"
   ]
  },
  {
   "cell_type": "code",
   "execution_count": null,
   "metadata": {},
   "outputs": [],
   "source": [
    "index2, ringed2, residual_alms2,residual_pixel2 = cf.compare_rotator_methods(2,plank,[10,10])"
   ]
  },
  {
   "cell_type": "code",
   "execution_count": null,
   "metadata": {},
   "outputs": [],
   "source": [
    "cf.plot_residuals_ratios(index2, ringed2, residual_alms2,residual_pixel2)"
   ]
  },
  {
   "cell_type": "code",
   "execution_count": null,
   "metadata": {},
   "outputs": [],
   "source": [
    "index3, ringed3, residual_alms3,residual_pixel3 = cf.compare_rotator_methods(3,plank,[10,10])"
   ]
  },
  {
   "cell_type": "code",
   "execution_count": null,
   "metadata": {},
   "outputs": [],
   "source": [
    "cf.plot_residuals_ratios(index3, ringed3, residual_alms3,residual_pixel3)"
   ]
  },
  {
   "cell_type": "code",
   "execution_count": null,
   "metadata": {},
   "outputs": [],
   "source": [
    "index4, ringed4, residual_alms4,residual_pixel4 = cf.compare_rotator_methods(4,plank,[10,10])"
   ]
  },
  {
   "cell_type": "code",
   "execution_count": null,
   "metadata": {},
   "outputs": [],
   "source": [
    "cf.plot_residuals_ratios(index4, ringed4, residual_alms4,residual_pixel4)"
   ]
  },
  {
   "cell_type": "code",
   "execution_count": 9,
   "metadata": {},
   "outputs": [
    {
     "data": {
      "text/plain": [
       "<module 'comparison_functions' from '/cita/h/home-2/otijani/Desktop/dustfizz3D/comparison_functions.py'>"
      ]
     },
     "execution_count": 9,
     "metadata": {},
     "output_type": "execute_result"
    }
   ],
   "source": [
    "importlib.reload(cf)"
   ]
  },
  {
   "cell_type": "code",
   "execution_count": 11,
   "metadata": {},
   "outputs": [
    {
     "data": {
      "image/png": "[encoded data removed]",
      "text/plain": [
       "<Figure size 432x288 with 1 Axes>"
      ]
     },
     "metadata": {
      "needs_background": "light"
     },
     "output_type": "display_data"
    }
   ],
   "source": [
    "cf.ratio_histogram(index,ringed0,residual_alms0,residual_pixel0)\n"
   ]
  },
  {
   "cell_type": "code",
   "execution_count": null,
   "metadata": {},
   "outputs": [],
   "source": []
  },
  {
   "cell_type": "code",
   "execution_count": null,
   "metadata": {},
   "outputs": [],
   "source": []
  }
 ],
 "metadata": {
  "kernelspec": {
   "display_name": "Python 3",
   "language": "python",
   "name": "python3"
  },
  "language_info": {
   "codemirror_mode": {
    "name": "ipython",
    "version": 3
   },
   "file_extension": ".py",
   "mimetype": "text/x-python",
   "name": "python",
   "nbconvert_exporter": "python",
   "pygments_lexer": "ipython3",
   "version": "3.10.2"
  }
 },
 "nbformat": 4,
 "nbformat_minor": 2
}
