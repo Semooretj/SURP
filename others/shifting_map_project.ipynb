{
 "cells": [
  {
   "cell_type": "code",
   "execution_count": 1,
   "id": "d7663426",
   "metadata": {},
   "outputs": [],
   "source": [
    "import numpy as np\n",
    "import healpy as hp"
   ]
  },
  {
   "cell_type": "code",
   "execution_count": 3,
   "id": "c47108fc",
   "metadata": {},
   "outputs": [],
   "source": [
    "# Using ring-reordering \n",
    "def turn(nside:int,pixel_data:list) -> list:\n",
    "    \"\"\" Shifts each pixel to position of ring neighbour (left)\n",
    "    Parameters:\n",
    "    nside -------- resolution of data set\n",
    "    pixel_data --- data value for each pixel\n",
    "    \n",
    "    Returns:\n",
    "    changed_order_data -- the pixel_data set with rearranged order\n",
    "    \"\"\"\n",
    "    # note1: maybe insert a test to confirm that size of pixel_data corresponds with nside resolution?\n",
    "    \n",
    "    # calculate number of rings for given resolution\n",
    "    n_rings = 4*nside -1  # determined emperically\n",
    "    \n",
    "    # create empty lists for each ring\n",
    "    indices =[]\n",
    "    for i in range(n_rings): \n",
    "        indices.append([])\n",
    "\n",
    "    # set first pixel's colatitude as initial test\n",
    "    colat0,long0 = hp.pix2ang(nside,0)\n",
    "    test = colat0\n",
    "    \n",
    "    # list to collect colatitudes -----> note2: can probably be removed from code\n",
    "    colats = []\n",
    "    # Ring counter\n",
    "    n = 0\n",
    "    # Checks if colatitude of pixel is same as test\n",
    "    for index,value in enumerate(pixel_data):\n",
    "        colat_i,long_i = hp.pix2ang(nside,index)\n",
    "        if colat_i == test:   # Same ring\n",
    "            colats.append(colat_i)  #--------> note2 contd, can probaly be removed from code\n",
    "            indices[n].append(index)\n",
    "        else: # Move to new ring, \n",
    "            n +=1\n",
    "            colats.append(colat_i)  #--------> note2 contd, can probaly be removed from code\n",
    "            test = colat_i   # change this colatitude to new test value for subsequent piels\n",
    "            indices[n].append(index)\n",
    "            \n",
    "    #print(colats)       \n",
    "    #print(indices)\n",
    "    \n",
    "    # change order of each list\n",
    "    new_indices = []\n",
    "    for row in indices:  # for each ring\n",
    "        np.array(row)\n",
    "        # Remove last element and make it first\n",
    "        new_order = np.append(row[-1],row)\n",
    "        new_order = new_order[:-1]\n",
    "        new_indices.append(new_order)\n",
    "    #print(new_indices)\n",
    "    \n",
    "    # Join all rings together to create new ordered dataset\n",
    "    changed_order_indices = np.concatenate(new_indices[:])\n",
    "    # Use index list to get values \n",
    "    changed_order_data = np.array([])\n",
    "    for index in changed_order_indices:\n",
    "        changed_order_data = np.append(changed_order_data,pixel_data[index])\n",
    "    #print(changed_order)\n",
    "    \n",
    "    return changed_order_data\n",
    "\n"
   ]
  },
  {
   "cell_type": "code",
   "execution_count": 43,
   "id": "23ca26fc",
   "metadata": {},
   "outputs": [
    {
     "name": "stdout",
     "output_type": "stream",
     "text": [
      "<class 'numpy.ndarray'> [ 0.  1.  2.  3.  8.  9. 10. 11.  4.  5.  6.  7. 16. 17. 18. 19. 12. 13.\n",
      " 14. 15. 24. 25. 26. 27. 20. 21. 22. 23. 32. 33. 34. 35. 28. 29. 30. 31.\n",
      " 40. 41. 42. 43. 36. 37. 38. 39. 44. 45. 46. 47.]\n"
     ]
    },
    {
     "data": {
      "image/png": "[encoded data removed]",
      "text/plain": [
       "<Figure size 432x288 with 4 Axes>"
      ]
     },
     "metadata": {
      "needs_background": "light"
     },
     "output_type": "display_data"
    }
   ],
   "source": [
    "# Generate data\n",
    "nside = 2\n",
    "npix = hp.nside2npix(nside)\n",
    "original_map = np.arange(npix)\n",
    "changed_order = turn(nside,turn(nside,turn(nside,turn(nside,original_map))))\n",
    "print(type(original_map,changed_order)\n",
    "# Visualize maps\n",
    "hp.mollview(original_map, title='Original Map', sub=(1, 2, 1))\n",
    "hp.mollview(changed_order, title='Rotated Map', sub=(1, 2, 2))\n"
   ]
  },
  {
   "cell_type": "code",
   "execution_count": 75,
   "id": "8ac6862f",
   "metadata": {},
   "outputs": [],
   "source": [
    "# Using Rotator\n",
    "\n",
    "def rot(nside,pixel_data,rot):\n",
    "    # Create rotation function\n",
    "    rot = hp.Rotator(rot=rot, deg=True)\n",
    "\n",
    "    # Get array of indices to work with\n",
    "    pixel_indices = []\n",
    "    for index,value in enumerate(pixel_data): pixel_indices.append(index) \n",
    "    \n",
    "    # Get the angular coordinates for each pixel\n",
    "    theta, phi = hp.pix2ang(nside, pixel_indices)\n",
    "\n",
    "    # Apply the rotation to these coordinates\n",
    "    theta_rot, phi_rot = rot(theta, phi)\n",
    "\n",
    "    # print(theta)\n",
    "    # print(theta_rot)\n",
    "    # print(phi)\n",
    "    # print(phi_rot)\n",
    "\n",
    "    # Convert the rotated coordinates back to pixel indices\n",
    "    new_indices = hp.ang2pix(nside, theta_rot, phi_rot)\n",
    "\n",
    "    # Create a new map with the pixels rearranged\n",
    "    rotated_map = pixel_data[new_indices]\n",
    "    return rotated_map\n",
    "\n"
   ]
  },
  {
   "cell_type": "code",
   "execution_count": 74,
   "id": "3328a435",
   "metadata": {},
   "outputs": [
    {
     "data": {
      "image/png": "[encoded data removed]",
      "text/plain": [
       "<Figure size 432x288 with 4 Axes>"
      ]
     },
     "metadata": {
      "needs_background": "light"
     },
     "output_type": "display_data"
    }
   ],
   "source": [
    "# Generate data\n",
    "nside = 3\n",
    "npix = hp.nside2npix(nside)\n",
    "original_map = np.arange(npix)\n",
    "rotated_map = rot(nside,original_map,[15,14,0])\n",
    "#print(original_map,rotated_map)\n",
    "\n",
    "# Visualize the maps\n",
    "hp.mollview(original_map, title='Original Map', sub=(1, 2, 1))\n",
    "hp.mollview(rotated_map, title='Rotated Map', sub=(1, 2, 2))"
   ]
  },
  {
   "cell_type": "code",
   "execution_count": 84,
   "id": "353e5d0a",
   "metadata": {},
   "outputs": [],
   "source": [
    "# Using neighbours\n",
    "def shift_SW(nside,pixel_data):\n",
    "    # Collect indices of every SW neighbour\n",
    "    SW = []\n",
    "    for index, value in enumerate(pixel_data):\n",
    "        neighbours = hp.get_all_neighbours(nside,index)\n",
    "        #print(index,neighbours)\n",
    "        SW.append(neighbours[0])\n",
    "    # Get values coresponding to those indices   \n",
    "    changed_order_data = pixel_data[SW]\n",
    "    #print(changed_order_data)\n",
    "    return changed_order_data\n"
   ]
  },
  {
   "cell_type": "code",
   "execution_count": 83,
   "id": "66d0f266",
   "metadata": {},
   "outputs": [
    {
     "data": {
      "text/plain": [
       "[<matplotlib.lines.Line2D at 0x7f1fddfabac0>]"
      ]
     },
     "execution_count": 83,
     "metadata": {},
     "output_type": "execute_result"
    },
    {
     "data": {
      "image/png": "[encoded data removed]",
      "text/plain": [
       "<Figure size 432x288 with 4 Axes>"
      ]
     },
     "metadata": {
      "needs_background": "light"
     },
     "output_type": "display_data"
    }
   ],
   "source": [
    "# Generate data\n",
    "nside = 2\n",
    "npix = hp.nside2npix(nside)\n",
    "points = np.arange(npix)\n",
    "points2 = shift_SW(nside,points)\n",
    "#print(points,points2)\n",
    "\n",
    "# Visualize the maps\n",
    "hp.mollview(points, title = 'Original map', sub = (1,2,1))\n",
    "hp.projplot(0,0, 'ro', lonlat=True)\n",
    "hp.mollview(points2, title = 'Rotated map', sub = (1,2,2),min = 0, max = 47)\n",
    "hp.projplot(22.5,22.5, 'ro', lonlat=True)\n"
   ]
  },
  {
   "cell_type": "code",
   "execution_count": null,
   "id": "53fcc818",
   "metadata": {},
   "outputs": [],
   "source": []
  }
 ],
 "metadata": {
  "kernelspec": {
   "display_name": "Python 3 (ipykernel)",
   "language": "python",
   "name": "python3"
  },
  "language_info": {
   "codemirror_mode": {
    "name": "ipython",
    "version": 3
   },
   "file_extension": ".py",
   "mimetype": "text/x-python",
   "name": "python",
   "nbconvert_exporter": "python",
   "pygments_lexer": "ipython3",
   "version": "3.10.2"
  }
 },
 "nbformat": 4,
 "nbformat_minor": 5
}
